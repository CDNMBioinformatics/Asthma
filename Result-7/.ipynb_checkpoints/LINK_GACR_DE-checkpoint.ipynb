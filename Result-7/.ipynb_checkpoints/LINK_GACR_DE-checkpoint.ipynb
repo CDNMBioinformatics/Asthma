{
 "cells": [
  {
   "cell_type": "code",
   "execution_count": 1,
   "id": "right-liability",
   "metadata": {},
   "outputs": [
    {
     "name": "stderr",
     "output_type": "stream",
     "text": [
      "Loading required package: BiocGenerics\n",
      "\n",
      "\n",
      "Attaching package: ‘BiocGenerics’\n",
      "\n",
      "\n",
      "The following objects are masked from ‘package:stats’:\n",
      "\n",
      "    IQR, mad, sd, var, xtabs\n",
      "\n",
      "\n",
      "The following objects are masked from ‘package:base’:\n",
      "\n",
      "    anyDuplicated, append, as.data.frame, basename, cbind, colnames,\n",
      "    dirname, do.call, duplicated, eval, evalq, Filter, Find, get, grep,\n",
      "    grepl, intersect, is.unsorted, lapply, Map, mapply, match, mget,\n",
      "    order, paste, pmax, pmax.int, pmin, pmin.int, Position, rank,\n",
      "    rbind, Reduce, rownames, sapply, setdiff, sort, table, tapply,\n",
      "    union, unique, unsplit, which.max, which.min\n",
      "\n",
      "\n",
      "Welcome to Bioconductor\n",
      "\n",
      "    Vignettes contain introductory material; view with\n",
      "    'browseVignettes()'. To cite Bioconductor, see\n",
      "    'citation(\"Biobase\")', and for packages 'citation(\"pkgname\")'.\n",
      "\n",
      "\n",
      "\n",
      "Attaching package: ‘limma’\n",
      "\n",
      "\n",
      "The following object is masked from ‘package:BiocGenerics’:\n",
      "\n",
      "    plotMA\n",
      "\n",
      "\n"
     ]
    }
   ],
   "source": [
    "rm(list=ls())\n",
    "library(\"Biobase\")\n",
    "library(limma)"
   ]
  },
  {
   "cell_type": "code",
   "execution_count": 2,
   "id": "vertical-vaccine",
   "metadata": {},
   "outputs": [],
   "source": [
    "## Expression data\n",
    "exprs <- read.table(\"transcriptomics.tsv\",sep=\"\\t\",header=TRUE,stringsAsFactors=F,row.names=1,as.is=TRUE,check.names=FALSE)\n",
    "\n",
    "link_goi = c('NFAT5', 'NFKB1', 'ADAM28', 'F7', 'PDGFRL', 'ADAMTS6', 'CTSF', 'NCF4', 'ADAMTS4', 'CTSB', 'ITGB2', 'FGF22', 'ADAMTS14', 'IFNE1', 'ATP2A3', 'SMAD9', 'FGF11', 'FGF14', 'ADAMTS2', 'MMP15', 'MPO', 'NFE2L2', 'ADAMTS12', 'COL10A1', 'ADAM6', 'FGFR2', 'CTSA', 'ORAI1', 'COLEC12', 'COL6A6', 'PTGER1', 'PTGER4', 'NFATC1', 'COLEC11', 'CTSC', 'IFNA1', 'COL24A1', 'MMP7', 'KCNN4', 'OAS1', 'FGG', 'FGD2', 'NCF1B', 'FCN3', 'FGD1', 'NCF1', 'CD33', 'MMP1', 'MMP23B', 'FGF12', 'FGF21', 'SMAD7', 'TLR2', 'VDR', 'FGFR1OP', 'PDGFA', 'KEAP1', 'FGGY', 'F3', 'CTSL1', 'CTSO', 'ORAI3', 'ADAMTS20', 'FGD6', 'COL9A2', 'TGM2', 'TREML1', 'TNXB', 'TMEM66', 'TXNIP', 'CYP27B1', 'PDGFRB', 'FGFBP1', 'FGFR4', 'MMP11', 'IFNA6', 'ADAM3A', 'F13A1', 'ADAMTS16', 'ADAMTS3', 'SMAD3', 'STIM1', 'FGF5', 'F2R', 'ALOX12P2', 'ADAM5P', 'ICAM2', 'SPTLC2', 'LOXL2', 'IFNA2', 'ADAMTS8', 'COL14A1', 'FGFR3', 'FGR', 'NCF2', 'COL17A1', 'COL28A1', 'P2RX7', 'MMP21', 'ADAM32', 'COL1A2', 'LOXL1', 'ADAMTS9', 'ACTA2', 'F12', 'COL4A4', 'MMP19', 'IFNA5', 'ADAMTS13', 'TLR8', 'IFNA21', 'TIMP1', 'COL1A1', 'MYOF', 'ADAMTSL5', 'HMOX2', 'DCN', 'NFATC3', 'CTSD', 'CMIP', 'F5', 'OASL', 'LOXL4', 'VEGFA', 'PDGFC', 'COL11A2', 'COL25A1', 'FGF13', 'F11', 'TNFSF14', 'ADAM21P', 'ADAMTS7', 'F2RL2', 'ADAMTS15', 'COL23A1', 'COL6A3', 'TLR1', 'FAP', 'MMP12', 'PDGFRA', 'NFATC4', 'OAS3', 'COL4A1', 'MMP28', 'CTSW', 'COL4A6', 'COL5A1', 'ORAI2', 'TREML2P', 'ADAM23', 'ADAM29', 'FGF16', 'ADAM7', 'FBN1', 'FGF3', 'MMP27', 'FGF8', 'FGF2', 'CTSE', 'NFATC2', 'FGF17', 'F2RL3', 'ELANE', 'COL6A2', 'FIGF', 'F8A3', 'FGFR1', 'TIMP3', 'HIF1A', 'MMPL1', 'CAT', 'SPHK1', 'FCN1', 'PTGER2', 'IFNA10', 'NOX5', 'FGF18', 'PDGFD', 'TLR9', 'CYP2R1', 'F8', 'FGA', 'POSTN', 'NLRP3', 'ADAM9', 'STIM2', 'MMP20', 'COL28', 'COL4A3BP', 'JAK1', 'ADAM21', 'TLR5', 'OAS2', 'ADAM2', 'RNF5', 'IFNA4', 'CYP24A1', 'ADAMTSL3', 'MMP3', 'MMP9', 'COL6A1', 'TLR6', 'IFNB1', 'ADAM19', 'ALOXE3', 'F2', 'PTGER3', 'CTSH', 'IFNA16', 'COL21A1', 'TREM2', 'GNLY', 'FGF10', 'CTSL2', 'FGL2', 'SMAD2', 'F9', 'NOX4', 'SPI1', 'F10', 'COL27A1', 'ADAM20', 'MMP2', 'NFATC2IP', 'ADAMTSL4', 'F2RL1', 'ALOX15B', 'FGF7', 'FGF20', 'ADAM17', 'CTSL3', 'ADAMTS18', 'TNFRSF18', 'COL4A3', 'IFNE', 'TLR10', 'COLQ', 'ORMDL3', 'ORMDL2', 'IFNA13', 'MMP10', 'ATP2A2', 'COL16A1', 'COL11A1', 'TREML4', 'F11R', 'SERPINE1', 'TLR4', 'FGL1', 'PDGFB', 'ADAM10', 'ELN', 'TIMP4', 'ADAM15', 'ADAMDEC1', 'FGD5', 'TNFSF10', 'COL8A2', 'IFNA17', 'COL4A2', 'IFNA7', 'PLAT', 'PRF1', 'PLAU', 'MMP25', 'COL9A3', 'COL15A1', 'NKG7', 'ATP2A1', 'TIMP2', 'CD69', 'FGF1', 'PLG', 'NOX1', 'FGB', 'MMP24', 'COL5A3', 'COL22A1', 'COL7A1', 'ADAMTS5', 'NOX3', 'COL12A1', 'ADAM22', 'SMAD4', 'SERPINA1', 'FUT4', 'FGF9', 'ADAM30', 'SPTLC1', 'COL20A1', 'FGFR1OP2', 'CTSS', 'COL4A5', 'FGF6', 'FGD4', 'FGF23', 'HMOX1', 'KDR', 'COL8A1', 'ADAM11', 'IFNK', 'SMAD6', 'TLR3', 'TREML2', 'COL5A2', 'VEGFC', 'CTSK', 'ALOX5AP', 'CTLA4', 'COL29A1', 'MMP26', 'FGFBP3', 'FOXO3', 'CTSZ', 'ORMDL1', 'FGFRL1', 'IFNA14', 'MMP16', 'ALOX12', 'COL3A1', 'ADAMTSL1', 'FGFBP2', 'NOXO1', 'FCN2', 'MMP8', 'F8A1', 'ADAM33', 'ADAMTSL2', 'FGF19', 'SMAD1', 'SMAD5', 'COL18A1', 'COL2A1', 'ADAM18', 'COL13A1', 'ADAMTS17', 'F8A2', 'TREM1', 'FLT4', 'F13B', 'TYK2', 'COL19A1', 'ROMO1', 'CD47', 'COL9A1', 'SESN1', 'ALOX12B', 'IFNW1', 'ADAM8', 'NCF1C', 'ADAMTS10', 'MMP23A', 'FN1', 'PLAUR', 'TLR7', 'SP1', 'SPTLC3', 'COLEC10', 'FGF4', 'ADAMTS1', 'ADAMTS19', 'FGD3', 'MMP14', 'ADAM12', 'CTSG', 'ICAM1', 'MMP13', 'ATF6', 'CCL11', 'LOXL3')\n",
    "exprs <- exprs[link_goi,]\n",
    "\n",
    "exprs <- data.matrix(exprs)\n"
   ]
  },
  {
   "cell_type": "code",
   "execution_count": 3,
   "id": "approximate-strain",
   "metadata": {},
   "outputs": [
    {
     "data": {
      "text/html": [
       "TRUE"
      ],
      "text/latex": [
       "TRUE"
      ],
      "text/markdown": [
       "TRUE"
      ],
      "text/plain": [
       "[1] TRUE"
      ]
     },
     "metadata": {},
     "output_type": "display_data"
    },
    {
     "data": {
      "text/plain": [
       "       (Intercept) groupsGrp_asthma genderM age\n",
       "Down             0               36       0   0\n",
       "NotSig           0              241     364 370\n",
       "Up             370               93       6   0"
      ]
     },
     "metadata": {},
     "output_type": "display_data"
    },
    {
     "data": {
      "text/html": [
       "<style>\n",
       ".list-inline {list-style: none; margin:0; padding: 0}\n",
       ".list-inline>li {display: inline-block}\n",
       ".list-inline>li:not(:last-child)::after {content: \"\\00b7\"; padding: 0 .5ex}\n",
       "</style>\n",
       "<ol class=list-inline><li>'(Intercept)'</li><li>'groupsGrp_asthma'</li><li>'genderM'</li><li>'age'</li></ol>\n"
      ],
      "text/latex": [
       "\\begin{enumerate*}\n",
       "\\item '(Intercept)'\n",
       "\\item 'groupsGrp\\_asthma'\n",
       "\\item 'genderM'\n",
       "\\item 'age'\n",
       "\\end{enumerate*}\n"
      ],
      "text/markdown": [
       "1. '(Intercept)'\n",
       "2. 'groupsGrp_asthma'\n",
       "3. 'genderM'\n",
       "4. 'age'\n",
       "\n",
       "\n"
      ],
      "text/plain": [
       "[1] \"(Intercept)\"      \"groupsGrp_asthma\" \"genderM\"          \"age\"             "
      ]
     },
     "metadata": {},
     "output_type": "display_data"
    }
   ],
   "source": [
    "## Meta data\n",
    "pData <- read.table(\"neu_meta.tsv\",sep=\"\\t\",header=TRUE,stringsAsFactors=F,row.names=1,as.is=TRUE,check.names=FALSE)\n",
    "intersec = intersect(row.names(pData),colnames(exprs))\n",
    "exprs <- exprs[,intersec]\n",
    "pData<-pData[intersec,]\n",
    "\n",
    "phenoData <- new(\"AnnotatedDataFrame\",data=pData)\n",
    "all(rownames(pData)==colnames(exprs))\n",
    "\n",
    "minimalSet <- ExpressionSet(assayData=exprs, phenoData=phenoData)\n",
    "library(limma)\n",
    "\n",
    "age <- phenoData$age\n",
    "gender <- phenoData$gender\n",
    "\n",
    "tmp <- phenoData$neu\n",
    "grp_num <- 'Cluster 3'\n",
    "\n",
    "tmp[tmp==grp_num] <- 'Grp_asthma'\n",
    "tmp[!tmp=='Grp_asthma'] <- 'Control'\n",
    "groups <- tmp\n",
    "\n",
    "design <- model.matrix(~1+groups+gender+age)\n",
    "fit <- lmFit(minimalSet, design)\n",
    "fit <- eBayes(fit)\n",
    "\n",
    "dt <- decideTests(fit)\n",
    "summary(dt)\n",
    "colnames(fit)\n",
    "\n",
    "res <-topTable(fit, coef='groupsGrp_asthma', number=Inf, sort.by='p')\n",
    "\n"
   ]
  },
  {
   "cell_type": "code",
   "execution_count": 4,
   "id": "integral-portfolio",
   "metadata": {},
   "outputs": [],
   "source": [
    "## Use this for Asthma-COPD (Cluster 3 with link-goi)\n",
    "link_tmp3 <- head(res, summary(dt)['Up','groupsGrp_asthma']+summary(dt)['Down','groupsGrp_asthma']) \n",
    "fcvals_up <- link_tmp3[link_tmp3['logFC']>=0,]\n",
    "write.table(fcvals_up, file=\"DE_Link_Cluster3.txt\", row.names = TRUE, col.names = TRUE, sep=\"\\t\")"
   ]
  },
  {
   "cell_type": "code",
   "execution_count": 5,
   "id": "grand-warrior",
   "metadata": {},
   "outputs": [],
   "source": [
    "\n",
    "# intersect ( rownames(subset( link_tmp3, logFC > 0)), link_goi)\n",
    "\n"
   ]
  },
  {
   "cell_type": "code",
   "execution_count": null,
   "id": "handmade-compression",
   "metadata": {},
   "outputs": [],
   "source": []
  }
 ],
 "metadata": {
  "kernelspec": {
   "display_name": "R",
   "language": "R",
   "name": "ir"
  },
  "language_info": {
   "codemirror_mode": "r",
   "file_extension": ".r",
   "mimetype": "text/x-r-source",
   "name": "R",
   "pygments_lexer": "r",
   "version": "4.1.2"
  }
 },
 "nbformat": 4,
 "nbformat_minor": 5
}
